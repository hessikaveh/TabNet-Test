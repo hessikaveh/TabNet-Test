{
  "nbformat": 4,
  "nbformat_minor": 0,
  "metadata": {
    "colab": {
      "name": "TabNet.ipynb",
      "provenance": [],
      "collapsed_sections": [],
      "authorship_tag": "ABX9TyOdRbVNPVNJXrOQ0OU95aGF",
      "include_colab_link": true
    },
    "kernelspec": {
      "name": "python3",
      "display_name": "Python 3"
    },
    "language_info": {
      "name": "python"
    }
  },
  "cells": [
    {
      "cell_type": "markdown",
      "metadata": {
        "id": "view-in-github",
        "colab_type": "text"
      },
      "source": [
        "<a href=\"https://colab.research.google.com/github/hessikaveh/TabNet-Test/blob/main/TabNet.ipynb\" target=\"_parent\"><img src=\"https://colab.research.google.com/assets/colab-badge.svg\" alt=\"Open In Colab\"/></a>"
      ]
    },
    {
      "cell_type": "markdown",
      "metadata": {
        "id": "3lRMPnnExynK"
      },
      "source": [
        "#Let's try the Tabnet with Ludwig and compare it with the XGBoost\n",
        "**First** Lets grab the data"
      ]
    },
    {
      "cell_type": "code",
      "metadata": {
        "colab": {
          "base_uri": "https://localhost:8080/"
        },
        "id": "w2M2CtSi2ClR",
        "outputId": "f55f2842-e0d3-420b-d916-f8432828b937"
      },
      "source": [
        "!pip install h5py"
      ],
      "execution_count": 1,
      "outputs": [
        {
          "output_type": "stream",
          "text": [
            "Requirement already satisfied: h5py in /usr/local/lib/python3.7/dist-packages (3.1.0)\n",
            "Requirement already satisfied: cached-property; python_version < \"3.8\" in /usr/local/lib/python3.7/dist-packages (from h5py) (1.5.2)\n",
            "Requirement already satisfied: numpy>=1.14.5; python_version == \"3.7\" in /usr/local/lib/python3.7/dist-packages (from h5py) (1.19.5)\n"
          ],
          "name": "stdout"
        }
      ]
    },
    {
      "cell_type": "code",
      "metadata": {
        "id": "uAOggv9DyS5Q"
      },
      "source": [
        "    # ------------------------------------------\n",
        "    # load pickled numpy arrays or HDF5 as input data\n",
        "    # ------------------------------------------\n",
        "    def unpickle(fileName):\n",
        "        # pickled and gzipped numpy arrays\n",
        "        if fileName.endswith('.dmpz') or fileName.endswith('.dmp'):\n",
        "            inputFile = gzip.open(fileName,'rb') if fileName.endswith('.dmpz') else open(fileName, \"rb\")\n",
        "            try:\n",
        "                data = pickle.load(inputFile, encoding='latin1')\n",
        "            except:\n",
        "                data = pickle.load(inputFile)\n",
        "            inputFile.close()\n",
        "        # HDF5 (smaller, recommended)\n",
        "        elif fileName.endswith('.h5') or fileName.endswith('.hdf5'):\n",
        "            data = {}\n",
        "            with h5py.File(fileName, \"r\") as f:\n",
        "                for k in ['meta', 'category_labels']:\n",
        "                    data[k] = dict(json.loads(f.attrs[k])) #py3 no .decode('utf-8') needed\n",
        "                for k in ['train', 'test']:\n",
        "                    data[k] = {k2: f.get(k + '/' + k2)[:] for k2 in ['X', 'y']}\n",
        "                    #optional: 'sample_weight', 'sample_weight_error'\n",
        "                    try:\n",
        "                        data[k]['sample_weight'] = f.get(k + '/sample_weight')[:]\n",
        "                    except:\n",
        "                        data[k]['sample_weight'] = np.full(len(data[k]['y']), 1.0, dtype=np.float32)\n",
        "                    try:\n",
        "                        data[k]['sample_weight_error'] = f.get(k + '/sample_weight_error')[:]\n",
        "                    except:\n",
        "                        data[k]['sample_weight_error'] = np.full(len(data[k]['y']), 0.0, dtype=np.float32)\n",
        "\n",
        "                try:\n",
        "                    for k in ['data']:\n",
        "                        data[k] = {k2: f.get(k + '/' + k2)[:] for k2 in ['X']}\n",
        "                    print(\"INFO: DATA included in H5 file, can make DATA/MC plots!\")\n",
        "                except:\n",
        "                    pass\n",
        "\n",
        "        # print meta data\n",
        "        if 'meta' in data:\n",
        "            print(\"INFO: read inputs from disk, metadata is pesent:\")\n",
        "            for k in sorted(data['meta'].keys()):\n",
        "                print(\"INFO:  >  \",k,data['meta'][k])\n",
        "        return data"
      ],
      "execution_count": 2,
      "outputs": []
    },
    {
      "cell_type": "code",
      "metadata": {
        "colab": {
          "base_uri": "https://localhost:8080/"
        },
        "id": "V9RscI4axvGZ",
        "outputId": "e0c8eb42-0e03-43f0-92cb-0e0d0f57450b"
      },
      "source": [
        "import os\n",
        "import pandas as pd\n",
        "from sklearn.decomposition import PCA\n",
        "from sklearn.model_selection import train_test_split\n",
        "import h5py\n",
        "import json\n",
        "import matplotlib.pyplot as plt\n",
        "import numpy as np\n",
        "# download the data\n",
        "if not 'data_summer.h5' in os.listdir():\n",
        "    print('Downloading data:')\n",
        "    !wget https://github.com/hessikaveh/VHbbPytorch/raw/master/data_summer.h5 -O data_summer.h5\n",
        "else:\n",
        "    print('Data already downloaded')\n",
        "    print(os.listdir())\n",
        "    \n",
        "# prepare the data\n",
        "\n",
        "\n",
        "#df = pd.read_pickle('MadGraph.pkl')\n",
        "#features = ['MET', 'pTB1', 'pTB2', 'dRBB', 'dEtaBB', 'dPhiMETdijet']\n",
        "#X = df[features]\n",
        "#Y = df[['Y']]\n",
        "all_features = ['H_mass_fit_fallback', 'H_pt_fit_fallback', 'V_pt', 'nAddJets_2lep', 'SA5', 'V_mass', 'MET_Pt', 'hJets_leadingPt', 'hJets_subleadingPt', 'jjVPtRatio', 'HJ1_HJ2_dEta', 'HVdPhi_fit_fallback', 'hJets_btagged_0', 'hJets_btagged_1', 'HJ1_HJ2_dR', 'n_recoil_jets_fit', 'H_mass_sigma_fit']\n",
        "features = ['H_pt_fit_fallback', 'V_pt', 'nAddJets_2lep', 'SA5', 'V_mass', 'MET_Pt', 'hJets_leadingPt', 'hJets_subleadingPt', 'jjVPtRatio', 'HJ1_HJ2_dEta', 'HVdPhi_fit_fallback', 'hJets_btagged_0', 'hJets_btagged_1', 'HJ1_HJ2_dR', 'n_recoil_jets_fit', 'H_mass_sigma_fit']\n",
        "#data = unpickle(\"/content/drive/My Drive/vhbb/data_withCompleteCuts.h5\")\n",
        "data = unpickle(\"data_withCompleteCuts.h5\")\n",
        "X_train = data['train']['X']\n",
        "Y_train = data['train']['y']\n",
        "sample_weight_train = data['train']['sample_weight']\n",
        "sample_weight_train = pd.DataFrame(sample_weight_train, columns=['weight'])\n",
        "X_train = pd.DataFrame(X_train, columns=all_features)\n",
        "Y_train = pd.DataFrame(Y_train, columns=['Y'])\n",
        "Z_train = X_train[['H_mass_fit_fallback']]\n",
        "\n",
        "X_test = data['test']['X']\n",
        "Y_test = data['test']['y']\n",
        "sample_weight_test = data['test']['sample_weight']\n",
        "sample_weight_test = pd.DataFrame(sample_weight_test, columns=['weight'])\n",
        "X_test = pd.DataFrame(X_test, columns=all_features)\n",
        "Y_test = pd.DataFrame(Y_test, columns=['Y'])\n",
        "Z_test = X_test[['H_mass_fit_fallback']]\n",
        "\n",
        "del X_test['H_mass_fit_fallback']\n",
        "del X_train['H_mass_fit_fallback']\n",
        "\n",
        "#print(Z)\n",
        "# preprocessing\n",
        "X = pd.concat([X_train, X_test],axis=0, join='inner')\n",
        "Y = pd.concat([Y_train, Y_test],axis=0, join='inner')\n",
        "Z = pd.concat([Z_train, Z_test],axis=0, join='inner')\n",
        "X_pca = PCA(X.shape[1], svd_solver='auto', whiten=True)\n",
        "Z_pca = PCA(Z.shape[1], svd_solver='auto', whiten=True)\n",
        "\n",
        "X_pca.fit(X)\n",
        "Z_pca.fit(Z)\n",
        "df = pd.concat([X, Y],axis=1)\n",
        "df_train = pd.concat([X_train, Y_train],axis=1)\n",
        "df_test = pd.concat([X_test, Y_test],axis=1)\n",
        "\n",
        "print (df)\n",
        "# split\n",
        "#X_train, X_test, Y_train, Y_test, Z_train, Z_test = train_test_split(X, Y, Z)\n",
        "\n",
        "def generate_hbb(n_samples, train=True):\n",
        "    \n",
        "    # test or train\n",
        "    X_full = X_train if train else X_test\n",
        "    Y_full = Y_train if train else Y_test\n",
        "    Z_full = Z_train if train else Z_test\n",
        "    weights_full = sample_weight_train if train else sample_weight_test\n",
        "    # sample the events\n",
        "    random_state = np.random.randint(0, 10000)\n",
        "    X = X_full.sample(n_samples, random_state=random_state)\n",
        "    Y = Y_full.sample(n_samples, random_state=random_state)\n",
        "    Z = Z_full.sample(n_samples, random_state=random_state)\n",
        "    weights = weights_full.sample(n_samples, random_state=random_state)\n",
        "    # preprocess them\n",
        "    #return X_pca.transform(X), Y.values, Z_pca.transform(Z), weights.values\n",
        "    return X.values, Y.values, Z.values, weights.values\n",
        "X, Y, Z, weights = generate_hbb(500, train=True)"
      ],
      "execution_count": 37,
      "outputs": [
        {
          "output_type": "stream",
          "text": [
            "Data already downloaded\n",
            "['.config', 'tutorial.json', 'higgs.yml', 'temp.png', 'higgs.yaml', 'tutorial.h5', 'data_withCompleteCuts.h5', 'results', 'data_summer.h5', '.ipynb_checkpoints', 'medium_config.yaml', 'tutorial-progress.h5', 'higgs.csv', 'sample_data']\n",
            "INFO: read inputs from disk, metadata is pesent:\n",
            "INFO:  >   variables H_mass_fit_fallback H_pt_fit_fallback V_pt nAddJets_2lep SA5 V_mass MET_Pt hJets_leadingPt hJets_subleadingPt jjVPtRatio HJ1_HJ2_dEta HVdPhi_fit_fallback hJets_btagged_0 hJets_btagged_1 HJ1_HJ2_dR n_recoil_jets_fit H_mass_sigma_fit\n",
            "        H_pt_fit_fallback        V_pt  ...  H_mass_sigma_fit    Y\n",
            "0              227.006790  229.563721  ...         17.820295  1.0\n",
            "1              153.907333  154.488251  ...         10.239766  1.0\n",
            "2              155.563187  190.107605  ...         11.275752  1.0\n",
            "3               18.904070  201.898819  ...          0.397262  1.0\n",
            "4              169.643005  168.136353  ...         19.277073  1.0\n",
            "...                   ...         ...  ...               ...  ...\n",
            "320941         179.484482  247.384338  ...         24.153728  0.0\n",
            "320942          42.163162  177.791473  ...          3.357734  0.0\n",
            "320943         138.841492  188.240845  ...         14.857750  0.0\n",
            "320944         262.496643  334.441101  ...         50.111782  0.0\n",
            "320945         133.910263  309.986023  ...         18.060293  0.0\n",
            "\n",
            "[644138 rows x 17 columns]\n"
          ],
          "name": "stdout"
        }
      ]
    },
    {
      "cell_type": "markdown",
      "metadata": {
        "id": "svckXvjfzYJD"
      },
      "source": [
        "### Show the data\n",
        "\n",
        "Here, let's take a look at a few kinematic variables for the signal and background samples."
      ]
    },
    {
      "cell_type": "code",
      "metadata": {
        "colab": {
          "base_uri": "https://localhost:8080/",
          "height": 1000
        },
        "id": "DRcVvnFkyERi",
        "outputId": "34691b71-50a6-4848-94e1-d3881eaa3e7a"
      },
      "source": [
        "for feature in features:\n",
        "    fig, ax = plt.subplots()\n",
        "    print(feature)\n",
        "    _ = ax.hist(df.query('Y==1')[feature], bins=30, alpha=0.5, density=True, color='tomato', label='H->bb')\n",
        "    _ = ax.hist(df.query('Y==0')[feature], bins=30, alpha=0.5, density=True, color='darkblue', label='QCD')\n",
        "    ax.set_title(feature)\n",
        "    ax.legend(loc='best')"
      ],
      "execution_count": 4,
      "outputs": [
        {
          "output_type": "stream",
          "text": [
            "H_pt_fit_fallback\n",
            "V_pt\n",
            "nAddJets_2lep\n",
            "SA5\n",
            "V_mass\n",
            "MET_Pt\n",
            "hJets_leadingPt\n",
            "hJets_subleadingPt\n",
            "jjVPtRatio\n",
            "HJ1_HJ2_dEta\n",
            "HVdPhi_fit_fallback\n",
            "hJets_btagged_0\n",
            "hJets_btagged_1\n",
            "HJ1_HJ2_dR\n",
            "n_recoil_jets_fit\n",
            "H_mass_sigma_fit\n"
          ],
          "name": "stdout"
        },
        {
          "output_type": "display_data",
          "data": {
            "image/png": "[encoded data removed]",
            "text/plain": [
              "<Figure size 432x288 with 1 Axes>"
            ]
          },
          "metadata": {
            "tags": [],
            "needs_background": "light"
          }
        },
        {
          "output_type": "display_data",
          "data": {
            "image/png": "[encoded data removed]",
            "text/plain": [
              "<Figure size 432x288 with 1 Axes>"
            ]
          },
          "metadata": {
            "tags": [],
            "needs_background": "light"
          }
        },
        {
          "output_type": "display_data",
          "data": {
            "image/png": "[encoded data removed]",
            "text/plain": [
              "<Figure size 432x288 with 1 Axes>"
            ]
          },
          "metadata": {
            "tags": [],
            "needs_background": "light"
          }
        },
        {
          "output_type": "display_data",
          "data": {
            "image/png": "[encoded data removed]",
            "text/plain": [
              "<Figure size 432x288 with 1 Axes>"
            ]
          },
          "metadata": {
            "tags": [],
            "needs_background": "light"
          }
        },
        {
          "output_type": "display_data",
          "data": {
            "image/png": "[encoded data removed]",
            "text/plain": [
              "<Figure size 432x288 with 1 Axes>"
            ]
          },
          "metadata": {
            "tags": [],
            "needs_background": "light"
          }
        },
        {
          "output_type": "display_data",
          "data": {
            "image/png": "[encoded data removed]",
            "text/plain": [
              "<Figure size 432x288 with 1 Axes>"
            ]
          },
          "metadata": {
            "tags": [],
            "needs_background": "light"
          }
        },
        {
          "output_type": "display_data",
          "data": {
            "image/png": "[encoded data removed]",
            "text/plain": [
              "<Figure size 432x288 with 1 Axes>"
            ]
          },
          "metadata": {
            "tags": [],
            "needs_background": "light"
          }
        },
        {
          "output_type": "display_data",
          "data": {
            "image/png": "[encoded data removed]",
            "text/plain": [
              "<Figure size 432x288 with 1 Axes>"
            ]
          },
          "metadata": {
            "tags": [],
            "needs_background": "light"
          }
        },
        {
          "output_type": "display_data",
          "data": {
            "image/png": "[encoded data removed]",
            "text/plain": [
              "<Figure size 432x288 with 1 Axes>"
            ]
          },
          "metadata": {
            "tags": [],
            "needs_background": "light"
          }
        },
        {
          "output_type": "display_data",
          "data": {
            "image/png": "[encoded data removed]",
            "text/plain": [
              "<Figure size 432x288 with 1 Axes>"
            ]
          },
          "metadata": {
            "tags": [],
            "needs_background": "light"
          }
        },
        {
          "output_type": "display_data",
          "data": {
            "image/png": "[encoded data removed]",
            "text/plain": [
              "<Figure size 432x288 with 1 Axes>"
            ]
          },
          "metadata": {
            "tags": [],
            "needs_background": "light"
          }
        },
        {
          "output_type": "display_data",
          "data": {
            "image/png": "[encoded data removed]",
            "text/plain": [
              "<Figure size 432x288 with 1 Axes>"
            ]
          },
          "metadata": {
            "tags": [],
            "needs_background": "light"
          }
        },
        {
          "output_type": "display_data",
          "data": {
            "image/png": "[encoded data removed]",
            "text/plain": [
              "<Figure size 432x288 with 1 Axes>"
            ]
          },
          "metadata": {
            "tags": [],
            "needs_background": "light"
          }
        },
        {
          "output_type": "display_data",
          "data": {
            "image/png": "[encoded data removed]",
            "text/plain": [
              "<Figure size 432x288 with 1 Axes>"
            ]
          },
          "metadata": {
            "tags": [],
            "needs_background": "light"
          }
        },
        {
          "output_type": "display_data",
          "data": {
            "image/png": "[encoded data removed]",
            "text/plain": [
              "<Figure size 432x288 with 1 Axes>"
            ]
          },
          "metadata": {
            "tags": [],
            "needs_background": "light"
          }
        },
        {
          "output_type": "display_data",
          "data": {
            "image/png": "[encoded data removed]",
            "text/plain": [
              "<Figure size 432x288 with 1 Axes>"
            ]
          },
          "metadata": {
            "tags": [],
            "needs_background": "light"
          }
        }
      ]
    },
    {
      "cell_type": "markdown",
      "metadata": {
        "id": "0kIGH4RvULZd"
      },
      "source": [
        "### XGBoost"
      ]
    },
    {
      "cell_type": "code",
      "metadata": {
        "colab": {
          "base_uri": "https://localhost:8080/",
          "height": 301
        },
        "id": "yoi2GhlfzcgS",
        "outputId": "5a68ec31-e18e-4430-c469-2229ea503692"
      },
      "source": [
        "from xgboost import XGBClassifier\n",
        "import xgboost as xgb\n",
        "from sklearn.model_selection import train_test_split\n",
        "from sklearn.metrics import accuracy_score\n",
        "\n",
        "xg_reg = xgb.XGBRegressor(objective ='reg:linear', colsample_bytree = 0.3, learning_rate = 0.1,\n",
        "                max_depth = 5, alpha = 10, n_estimators = 10)\n",
        "xg_reg.fit(X_train,Y_train)\n",
        "\n",
        "preds = xg_reg.predict(X_test)\n",
        "weights = pd.concat([sample_weight_test, Y_test], axis=1)\n",
        "yhat_df = pd.DataFrame(preds)\n",
        "yhat_pred = pd.concat([yhat_df, Y_test], axis=1)\n",
        "fig, ax = plt.subplots()\n",
        "_ = ax.hist(yhat_pred[yhat_pred['Y']==0][0], bins=30, alpha=0.5, density=True, color='tomato', label='H->bb', weights =[ weights[weights['Y']==0]['weight'] ])\n",
        "_ = ax.hist(yhat_pred[yhat_pred['Y']==1][0], bins=30, alpha=0.5, density=True, color='darkblue', label='QCD', weights =[ weights[weights['Y']==1]['weight'] ])\n",
        "ax.legend()"
      ],
      "execution_count": 5,
      "outputs": [
        {
          "output_type": "stream",
          "text": [
            "[18:26:03] WARNING: /workspace/src/objective/regression_obj.cu:152: reg:linear is now deprecated in favor of reg:squarederror.\n"
          ],
          "name": "stdout"
        },
        {
          "output_type": "execute_result",
          "data": {
            "text/plain": [
              "<matplotlib.legend.Legend at 0x7f7eb341d350>"
            ]
          },
          "metadata": {
            "tags": []
          },
          "execution_count": 5
        },
        {
          "output_type": "display_data",
          "data": {
            "image/png": "[encoded data removed]",
            "text/plain": [
              "<Figure size 432x288 with 1 Axes>"
            ]
          },
          "metadata": {
            "tags": [],
            "needs_background": "light"
          }
        }
      ]
    },
    {
      "cell_type": "code",
      "metadata": {
        "colab": {
          "base_uri": "https://localhost:8080/"
        },
        "id": "OyCOrk4jTr7R",
        "outputId": "776b32d9-c582-4d77-f2a5-a0d749e1562b"
      },
      "source": [
        "# define the model\n",
        "model = XGBClassifier()\n",
        "# define the datasets to evaluate each iteration\n",
        "evalset = [(X_train, Y_train), (X_test,Y_test)]\n",
        "# fit the model\n",
        "model.fit(X_train, Y_train, eval_metric='logloss', eval_set=evalset)\n"
      ],
      "execution_count": 6,
      "outputs": [
        {
          "output_type": "stream",
          "text": [
            "/usr/local/lib/python3.7/dist-packages/sklearn/preprocessing/_label.py:235: DataConversionWarning: A column-vector y was passed when a 1d array was expected. Please change the shape of y to (n_samples, ), for example using ravel().\n",
            "  y = column_or_1d(y, warn=True)\n",
            "/usr/local/lib/python3.7/dist-packages/sklearn/preprocessing/_label.py:268: DataConversionWarning: A column-vector y was passed when a 1d array was expected. Please change the shape of y to (n_samples, ), for example using ravel().\n",
            "  y = column_or_1d(y, warn=True)\n"
          ],
          "name": "stderr"
        },
        {
          "output_type": "stream",
          "text": [
            "[0]\tvalidation_0-logloss:0.646712\tvalidation_1-logloss:0.646809\n",
            "[1]\tvalidation_0-logloss:0.608314\tvalidation_1-logloss:0.608472\n",
            "[2]\tvalidation_0-logloss:0.57833\tvalidation_1-logloss:0.578477\n",
            "[3]\tvalidation_0-logloss:0.552107\tvalidation_1-logloss:0.5523\n",
            "[4]\tvalidation_0-logloss:0.529118\tvalidation_1-logloss:0.529352\n",
            "[5]\tvalidation_0-logloss:0.511065\tvalidation_1-logloss:0.511378\n",
            "[6]\tvalidation_0-logloss:0.494984\tvalidation_1-logloss:0.495372\n",
            "[7]\tvalidation_0-logloss:0.48076\tvalidation_1-logloss:0.481196\n",
            "[8]\tvalidation_0-logloss:0.469126\tvalidation_1-logloss:0.469589\n",
            "[9]\tvalidation_0-logloss:0.458993\tvalidation_1-logloss:0.459506\n",
            "[10]\tvalidation_0-logloss:0.450324\tvalidation_1-logloss:0.450815\n",
            "[11]\tvalidation_0-logloss:0.44251\tvalidation_1-logloss:0.443042\n",
            "[12]\tvalidation_0-logloss:0.435738\tvalidation_1-logloss:0.436332\n",
            "[13]\tvalidation_0-logloss:0.429869\tvalidation_1-logloss:0.430486\n",
            "[14]\tvalidation_0-logloss:0.4249\tvalidation_1-logloss:0.425495\n",
            "[15]\tvalidation_0-logloss:0.420577\tvalidation_1-logloss:0.421214\n",
            "[16]\tvalidation_0-logloss:0.416362\tvalidation_1-logloss:0.417057\n",
            "[17]\tvalidation_0-logloss:0.412772\tvalidation_1-logloss:0.413488\n",
            "[18]\tvalidation_0-logloss:0.410007\tvalidation_1-logloss:0.410778\n",
            "[19]\tvalidation_0-logloss:0.407192\tvalidation_1-logloss:0.407952\n",
            "[20]\tvalidation_0-logloss:0.404874\tvalidation_1-logloss:0.405677\n",
            "[21]\tvalidation_0-logloss:0.402554\tvalidation_1-logloss:0.403472\n",
            "[22]\tvalidation_0-logloss:0.400638\tvalidation_1-logloss:0.401537\n",
            "[23]\tvalidation_0-logloss:0.398603\tvalidation_1-logloss:0.399555\n",
            "[24]\tvalidation_0-logloss:0.397069\tvalidation_1-logloss:0.398036\n",
            "[25]\tvalidation_0-logloss:0.395687\tvalidation_1-logloss:0.396664\n",
            "[26]\tvalidation_0-logloss:0.394235\tvalidation_1-logloss:0.395256\n",
            "[27]\tvalidation_0-logloss:0.393053\tvalidation_1-logloss:0.394134\n",
            "[28]\tvalidation_0-logloss:0.391968\tvalidation_1-logloss:0.393105\n",
            "[29]\tvalidation_0-logloss:0.390508\tvalidation_1-logloss:0.391706\n",
            "[30]\tvalidation_0-logloss:0.389572\tvalidation_1-logloss:0.390854\n",
            "[31]\tvalidation_0-logloss:0.38845\tvalidation_1-logloss:0.389815\n",
            "[32]\tvalidation_0-logloss:0.387559\tvalidation_1-logloss:0.388949\n",
            "[33]\tvalidation_0-logloss:0.386704\tvalidation_1-logloss:0.388134\n",
            "[34]\tvalidation_0-logloss:0.38605\tvalidation_1-logloss:0.387494\n",
            "[35]\tvalidation_0-logloss:0.38534\tvalidation_1-logloss:0.386827\n",
            "[36]\tvalidation_0-logloss:0.384801\tvalidation_1-logloss:0.386265\n",
            "[37]\tvalidation_0-logloss:0.384233\tvalidation_1-logloss:0.38572\n",
            "[38]\tvalidation_0-logloss:0.383645\tvalidation_1-logloss:0.385146\n",
            "[39]\tvalidation_0-logloss:0.383167\tvalidation_1-logloss:0.384714\n",
            "[40]\tvalidation_0-logloss:0.38255\tvalidation_1-logloss:0.384157\n",
            "[41]\tvalidation_0-logloss:0.382103\tvalidation_1-logloss:0.383738\n",
            "[42]\tvalidation_0-logloss:0.381739\tvalidation_1-logloss:0.383393\n",
            "[43]\tvalidation_0-logloss:0.381182\tvalidation_1-logloss:0.382848\n",
            "[44]\tvalidation_0-logloss:0.38075\tvalidation_1-logloss:0.382454\n",
            "[45]\tvalidation_0-logloss:0.38035\tvalidation_1-logloss:0.382054\n",
            "[46]\tvalidation_0-logloss:0.379992\tvalidation_1-logloss:0.381747\n",
            "[47]\tvalidation_0-logloss:0.379611\tvalidation_1-logloss:0.381406\n",
            "[48]\tvalidation_0-logloss:0.378942\tvalidation_1-logloss:0.380784\n",
            "[49]\tvalidation_0-logloss:0.378629\tvalidation_1-logloss:0.380475\n",
            "[50]\tvalidation_0-logloss:0.378334\tvalidation_1-logloss:0.38021\n",
            "[51]\tvalidation_0-logloss:0.377464\tvalidation_1-logloss:0.379371\n",
            "[52]\tvalidation_0-logloss:0.377217\tvalidation_1-logloss:0.379173\n",
            "[53]\tvalidation_0-logloss:0.376788\tvalidation_1-logloss:0.378782\n",
            "[54]\tvalidation_0-logloss:0.376106\tvalidation_1-logloss:0.3782\n",
            "[55]\tvalidation_0-logloss:0.37551\tvalidation_1-logloss:0.377683\n",
            "[56]\tvalidation_0-logloss:0.375283\tvalidation_1-logloss:0.377458\n",
            "[57]\tvalidation_0-logloss:0.375039\tvalidation_1-logloss:0.37724\n",
            "[58]\tvalidation_0-logloss:0.373825\tvalidation_1-logloss:0.376131\n",
            "[59]\tvalidation_0-logloss:0.373404\tvalidation_1-logloss:0.375747\n",
            "[60]\tvalidation_0-logloss:0.373136\tvalidation_1-logloss:0.375525\n",
            "[61]\tvalidation_0-logloss:0.372142\tvalidation_1-logloss:0.37462\n",
            "[62]\tvalidation_0-logloss:0.37191\tvalidation_1-logloss:0.374419\n",
            "[63]\tvalidation_0-logloss:0.371324\tvalidation_1-logloss:0.373873\n",
            "[64]\tvalidation_0-logloss:0.371109\tvalidation_1-logloss:0.373674\n",
            "[65]\tvalidation_0-logloss:0.370926\tvalidation_1-logloss:0.373506\n",
            "[66]\tvalidation_0-logloss:0.370746\tvalidation_1-logloss:0.373343\n",
            "[67]\tvalidation_0-logloss:0.370111\tvalidation_1-logloss:0.372762\n",
            "[68]\tvalidation_0-logloss:0.369947\tvalidation_1-logloss:0.372633\n",
            "[69]\tvalidation_0-logloss:0.369506\tvalidation_1-logloss:0.372211\n",
            "[70]\tvalidation_0-logloss:0.369336\tvalidation_1-logloss:0.37206\n",
            "[71]\tvalidation_0-logloss:0.36917\tvalidation_1-logloss:0.371914\n",
            "[72]\tvalidation_0-logloss:0.368997\tvalidation_1-logloss:0.371779\n",
            "[73]\tvalidation_0-logloss:0.36862\tvalidation_1-logloss:0.371429\n",
            "[74]\tvalidation_0-logloss:0.368411\tvalidation_1-logloss:0.371257\n",
            "[75]\tvalidation_0-logloss:0.367572\tvalidation_1-logloss:0.370495\n",
            "[76]\tvalidation_0-logloss:0.367374\tvalidation_1-logloss:0.370319\n",
            "[77]\tvalidation_0-logloss:0.366677\tvalidation_1-logloss:0.369687\n",
            "[78]\tvalidation_0-logloss:0.366441\tvalidation_1-logloss:0.369483\n",
            "[79]\tvalidation_0-logloss:0.365938\tvalidation_1-logloss:0.369032\n",
            "[80]\tvalidation_0-logloss:0.365824\tvalidation_1-logloss:0.368936\n",
            "[81]\tvalidation_0-logloss:0.365702\tvalidation_1-logloss:0.368832\n",
            "[82]\tvalidation_0-logloss:0.365447\tvalidation_1-logloss:0.368619\n",
            "[83]\tvalidation_0-logloss:0.365312\tvalidation_1-logloss:0.368504\n",
            "[84]\tvalidation_0-logloss:0.364746\tvalidation_1-logloss:0.368028\n",
            "[85]\tvalidation_0-logloss:0.364368\tvalidation_1-logloss:0.367697\n",
            "[86]\tvalidation_0-logloss:0.364262\tvalidation_1-logloss:0.367608\n",
            "[87]\tvalidation_0-logloss:0.364063\tvalidation_1-logloss:0.367428\n",
            "[88]\tvalidation_0-logloss:0.363733\tvalidation_1-logloss:0.367097\n",
            "[89]\tvalidation_0-logloss:0.363175\tvalidation_1-logloss:0.366589\n",
            "[90]\tvalidation_0-logloss:0.363039\tvalidation_1-logloss:0.366479\n",
            "[91]\tvalidation_0-logloss:0.362792\tvalidation_1-logloss:0.366258\n",
            "[92]\tvalidation_0-logloss:0.362661\tvalidation_1-logloss:0.366161\n",
            "[93]\tvalidation_0-logloss:0.362555\tvalidation_1-logloss:0.366082\n",
            "[94]\tvalidation_0-logloss:0.361949\tvalidation_1-logloss:0.365563\n",
            "[95]\tvalidation_0-logloss:0.361672\tvalidation_1-logloss:0.365287\n",
            "[96]\tvalidation_0-logloss:0.361401\tvalidation_1-logloss:0.365033\n",
            "[97]\tvalidation_0-logloss:0.361192\tvalidation_1-logloss:0.36486\n",
            "[98]\tvalidation_0-logloss:0.361106\tvalidation_1-logloss:0.364809\n",
            "[99]\tvalidation_0-logloss:0.361018\tvalidation_1-logloss:0.364735\n"
          ],
          "name": "stdout"
        },
        {
          "output_type": "execute_result",
          "data": {
            "text/plain": [
              "XGBClassifier(base_score=0.5, booster='gbtree', colsample_bylevel=1,\n",
              "              colsample_bynode=1, colsample_bytree=1, gamma=0,\n",
              "              learning_rate=0.1, max_delta_step=0, max_depth=3,\n",
              "              min_child_weight=1, missing=None, n_estimators=100, n_jobs=1,\n",
              "              nthread=None, objective='binary:logistic', random_state=0,\n",
              "              reg_alpha=0, reg_lambda=1, scale_pos_weight=1, seed=None,\n",
              "              silent=None, subsample=1, verbosity=1)"
            ]
          },
          "metadata": {
            "tags": []
          },
          "execution_count": 6
        }
      ]
    },
    {
      "cell_type": "code",
      "metadata": {
        "colab": {
          "base_uri": "https://localhost:8080/"
        },
        "id": "bAmwEeHoadih",
        "outputId": "9ac6b679-23a8-404b-86df-1fc8d83bf8b4"
      },
      "source": [
        "# evaluate performance\n",
        "yhat = model.predict(X_test)\n",
        "score = accuracy_score(Y_test, yhat)\n",
        "print('Accuracy: %.3f' % score)"
      ],
      "execution_count": 7,
      "outputs": [
        {
          "output_type": "stream",
          "text": [
            "Accuracy: 0.853\n"
          ],
          "name": "stdout"
        }
      ]
    },
    {
      "cell_type": "code",
      "metadata": {
        "id": "nmzE0pIzUaml"
      },
      "source": [
        "import tensorflow as tf\n",
        "from tensorflow import keras\n",
        "from tensorflow.keras import layers\n",
        "# Define Sequential model with 3 layers\n",
        "model = keras.Sequential(\n",
        "    [\n",
        "        layers.Dense(20, activation=\"relu\", name=\"layer1\"),\n",
        "        layers.Dense(32, activation=\"relu\", name=\"layer2\"),\n",
        "        layers.Dense(10, activation=\"relu\", name=\"layer3\"),\n",
        "        layers.Dense(2, activation=\"sigmoid\", name=\"layer4\"),\n",
        "    ]\n",
        ")\n"
      ],
      "execution_count": 8,
      "outputs": []
    },
    {
      "cell_type": "code",
      "metadata": {
        "colab": {
          "base_uri": "https://localhost:8080/"
        },
        "id": "hPMHTTKJarhS",
        "outputId": "809db52d-48ab-49ba-927f-dce5370d7a8f"
      },
      "source": [
        "from keras.utils.vis_utils import plot_model\n",
        "plot_model(model, 'temp.png', show_shapes=True)\n",
        "\n",
        "model.compile('adam', 'sparse_categorical_crossentropy')\n",
        " \n",
        "from keras.callbacks import EarlyStopping, ModelCheckpoint\n",
        "from collections import Counter\n",
        "print( Counter(Y_test) )\n",
        "# uneven classes\n",
        "\n",
        "print('Training:')\n",
        "try:\n",
        "    model.fit(\n",
        "        X_train, Y_train,\n",
        "        callbacks = [\n",
        "            EarlyStopping(verbose=True, patience=10, monitor='val_loss'),\n",
        "            ModelCheckpoint('tutorial-progress.h5', monitor='val_loss', verbose=True, save_best_only=True)\n",
        "        ],\n",
        "        epochs=10, \n",
        "        validation_split = 0.2,\n",
        "        verbose=True\n",
        ") \n",
        "except KeyboardInterrupt:\n",
        "    print( 'Training ended early.' )\n",
        "# -- load in best network\n",
        "model.load_weights('tutorial-progress.h5')\n",
        "\n",
        "# -- Save network weights and structure\n",
        "print( 'Saving model...' )\n",
        "model.save_weights('tutorial.h5', overwrite=True)\n",
        "json_string = model.to_json()\n",
        "open('tutorial.json', 'w').write(json_string)\n",
        "print( 'Done' )\n",
        "\n",
        "print( 'Testing...' )\n",
        "yhat = model.predict(X_test, verbose = True, batch_size = 512) \n",
        "\n",
        "# predictions\n",
        "print(yhat)"
      ],
      "execution_count": 9,
      "outputs": [
        {
          "output_type": "stream",
          "text": [
            "Counter({'Y': 1})\n",
            "Training:\n",
            "Epoch 1/10\n",
            "8080/8080 [==============================] - 13s 2ms/step - loss: 0.1129 - val_loss: 5.2381\n",
            "\n",
            "Epoch 00001: val_loss improved from inf to 5.23806, saving model to tutorial-progress.h5\n",
            "Epoch 2/10\n",
            "8080/8080 [==============================] - 11s 1ms/step - loss: 0.0930 - val_loss: 4.7687\n",
            "\n",
            "Epoch 00002: val_loss improved from 5.23806 to 4.76870, saving model to tutorial-progress.h5\n",
            "Epoch 3/10\n",
            "8080/8080 [==============================] - 12s 2ms/step - loss: 0.0909 - val_loss: 4.2279\n",
            "\n",
            "Epoch 00003: val_loss improved from 4.76870 to 4.22788, saving model to tutorial-progress.h5\n",
            "Epoch 4/10\n",
            "8080/8080 [==============================] - 11s 1ms/step - loss: 0.0903 - val_loss: 4.5362\n",
            "\n",
            "Epoch 00004: val_loss did not improve from 4.22788\n",
            "Epoch 5/10\n",
            "8080/8080 [==============================] - 11s 1ms/step - loss: 0.0897 - val_loss: 3.8817\n",
            "\n",
            "Epoch 00005: val_loss improved from 4.22788 to 3.88168, saving model to tutorial-progress.h5\n",
            "Epoch 6/10\n",
            "8080/8080 [==============================] - 11s 1ms/step - loss: 0.0893 - val_loss: 4.0351\n",
            "\n",
            "Epoch 00006: val_loss did not improve from 3.88168\n",
            "Epoch 7/10\n",
            "8080/8080 [==============================] - 11s 1ms/step - loss: 0.0892 - val_loss: 4.0830\n",
            "\n",
            "Epoch 00007: val_loss did not improve from 3.88168\n",
            "Epoch 8/10\n",
            "8080/8080 [==============================] - 11s 1ms/step - loss: 0.0891 - val_loss: 3.6768\n",
            "\n",
            "Epoch 00008: val_loss improved from 3.88168 to 3.67676, saving model to tutorial-progress.h5\n",
            "Epoch 9/10\n",
            "8080/8080 [==============================] - 11s 1ms/step - loss: 0.0891 - val_loss: 4.3938\n",
            "\n",
            "Epoch 00009: val_loss did not improve from 3.67676\n",
            "Epoch 10/10\n",
            "8080/8080 [==============================] - 11s 1ms/step - loss: 0.0889 - val_loss: 4.3375\n",
            "\n",
            "Epoch 00010: val_loss did not improve from 3.67676\n",
            "Saving model...\n",
            "Done\n",
            "Testing...\n",
            "627/627 [==============================] - 1s 828us/step\n",
            "[[0.10215595 0.8339728 ]\n",
            " [0.10207    0.83405924]\n",
            " [0.15975481 0.78109306]\n",
            " ...\n",
            " [0.18492404 0.7603022 ]\n",
            " [0.10423425 0.8318912 ]\n",
            " [0.04024985 0.9019164 ]]\n"
          ],
          "name": "stdout"
        }
      ]
    },
    {
      "cell_type": "code",
      "metadata": {
        "colab": {
          "base_uri": "https://localhost:8080/"
        },
        "id": "4KDL2fTubN5_",
        "outputId": "1c338267-b652-45dc-bc02-5d1ac4679de1"
      },
      "source": [
        "yhat = model.predict(X_test)\n",
        "yhat_cls = np.argmax(yhat, axis=1)\n",
        "score = accuracy_score(Y_test, yhat_cls)\n",
        "print('Accuracy: %.3f' % score)"
      ],
      "execution_count": 10,
      "outputs": [
        {
          "output_type": "stream",
          "text": [
            "Accuracy: 0.783\n"
          ],
          "name": "stdout"
        }
      ]
    },
    {
      "cell_type": "code",
      "metadata": {
        "colab": {
          "base_uri": "https://localhost:8080/",
          "height": 283
        },
        "id": "GGlX5hhoa1Vz",
        "outputId": "0ccfc10f-a8af-4ba6-a7c8-6f9f156b23e7"
      },
      "source": [
        "# -- turn them into classes\n",
        "yhat_cls = np.argmax(yhat, axis=1)\n",
        "\n",
        "import itertools\n",
        "from sklearn.metrics import confusion_matrix\n",
        "\n",
        "def plot_confusion_matrix(cm, classes,\n",
        "                          normalize=False,\n",
        "                          title='Confusion matrix',\n",
        "                          cmap=plt.cm.Blues):\n",
        "    \"\"\"\n",
        "    This function prints and plots the confusion matrix.\n",
        "    Normalization can be applied by setting `normalize=True`.\n",
        "    \"\"\"\n",
        "    if normalize:\n",
        "        cm = cm.astype('float') / cm.sum(axis=1)[:, np.newaxis]\n",
        "        print(\"Normalized confusion matrix\")\n",
        "    else:\n",
        "        print('Confusion matrix, without normalization')\n",
        "\n",
        "    print(cm)\n",
        "\n",
        "    plt.imshow(cm, interpolation='nearest', cmap=cmap)\n",
        "    plt.title(title)\n",
        "    plt.colorbar()\n",
        "    tick_marks = np.arange(len(classes))\n",
        "    plt.xticks(tick_marks, classes, rotation=45)\n",
        "    plt.yticks(tick_marks, classes)\n",
        "\n",
        "    fmt = '.2f' if normalize else 'd'\n",
        "    thresh = cm.max() / 2.\n",
        "    for i, j in itertools.product(range(cm.shape[0]), range(cm.shape[1])):\n",
        "        plt.text(j, i, format(cm[i, j], fmt),\n",
        "                 horizontalalignment=\"center\",\n",
        "                 color=\"white\" if cm[i, j] > thresh else \"black\")\n",
        "\n",
        "    plt.tight_layout()\n",
        "    plt.ylabel('True label')\n",
        "    plt.xlabel('Predicted label')\n",
        "    plt.savefig(\"confusion.png\")\n",
        "\n",
        "#print(yhat[:,0])\n",
        "#print(yhat[:,1])\n",
        "weights = pd.concat([sample_weight_test, Y_test], axis=1)\n",
        "yhat_df = pd.DataFrame(yhat)\n",
        "yhat_pred = pd.concat([yhat_df, Y_test], axis=1)\n",
        "#print(weights[weights['Y']==1]['weight'], yhat_pred)\n",
        "# Compute confusion matrix\n",
        "#cnf_matrix = confusion_matrix(Y_test, yhat, sample_weight=sample_weight_test)\n",
        "#cnf_matrix = confusion_matrix(Y_test, yhat_cls)\n",
        "#np.set_printoptions(precision=2)\n",
        "#plot_confusion_matrix(cnf_matrix, classes=['Hbb', 'Bkg'],\n",
        "#                      normalize=True,\n",
        "#                      title='Normalized confusion matrix')\n",
        "# signal eff = weighted tpr --> out of all signal events, what % for we classify as signal?\n",
        "#print ('Signal efficiency:', sample_weight_test[(yhat == 0)].sum() / sample_weight_test[yhat == 0].sum())\n",
        "\n",
        "# bkg eff = weighted fpr --> out of all bkg events, what % do we classify as signal?\n",
        "b_eff = weights[(Y_test != 0) ].sum() / weights[Y_test != 0].sum()\n",
        "#print ('Background efficiency:', b_eff)\n",
        "#print ('Background rej:', 1 / b_eff)\n",
        "fig, ax = plt.subplots()\n",
        "_ = ax.hist(yhat_pred[yhat_pred['Y']==0][0], bins=30, alpha=0.5, density=True, color='tomato', label='H->bb', weights =[ weights[weights['Y']==0]['weight'] ])\n",
        "_ = ax.hist(yhat_pred[yhat_pred['Y']==1][0], bins=30, alpha=0.5, density=True, color='darkblue', label='QCD', weights =[ weights[weights['Y']==1]['weight'] ])\n",
        "ax.legend()"
      ],
      "execution_count": 11,
      "outputs": [
        {
          "output_type": "execute_result",
          "data": {
            "text/plain": [
              "<matplotlib.legend.Legend at 0x7f7e6f32b910>"
            ]
          },
          "metadata": {
            "tags": []
          },
          "execution_count": 11
        },
        {
          "output_type": "display_data",
          "data": {
            "image/png": "[encoded data removed]",
            "text/plain": [
              "<Figure size 432x288 with 1 Axes>"
            ]
          },
          "metadata": {
            "tags": [],
            "needs_background": "light"
          }
        }
      ]
    },
    {
      "cell_type": "code",
      "metadata": {
        "id": "0Xh3HRE_a32a"
      },
      "source": [
        "document=\"\"\"\n",
        "input_features:\n",
        "  - name: H_pt_fit_fallback\n",
        "    type: numerical\n",
        "  - name: V_pt\n",
        "    type: numerical\n",
        "  - name: nAddJets_2lep\n",
        "    type: numerical\n",
        "  - name: SA5\n",
        "    type: numerical\n",
        "  - name: V_mass\n",
        "    type: numerical\n",
        "  - name: MET_Pt\n",
        "    type: numerical\n",
        "  - name: hJets_leadingPt\n",
        "    type: numerical\n",
        "  - name: hJets_subleadingPt\n",
        "    type: numerical\n",
        "  - name: jjVPtRatio\n",
        "    type: numerical\n",
        "  - name: HJ1_HJ2_dEta\n",
        "    type: numerical\n",
        "  - name: HVdPhi_fit_fallback\n",
        "    type: numerical\n",
        "  - name: hJets_btagged_0\n",
        "    type: numerical\n",
        "  - name: hJets_btagged_1\n",
        "    type: numerical\n",
        "  - name: HJ1_HJ2_dR\n",
        "    type: numerical\n",
        "  - name: n_recoil_jets_fit\n",
        "    type: numerical\n",
        "  - name: H_mass_sigma_fit\n",
        "    type: numerical\n",
        "output_features:\n",
        "  - name: label\n",
        "    type: binary\n",
        "    weight_regularization: null\n",
        "combiner:\n",
        "  type: tabnet\n",
        "  size: 32  # N_a\n",
        "  output_size: 96  # N_d\n",
        "  sparsity: 0.000001  # lambda_sparse\n",
        "  bn_virtual_divider: 32  # factor to divide batch_size B to get B_v from the paper\n",
        "  bn_momentum: 0.9  # m_B\n",
        "  num_steps: 8  # N_steps\n",
        "  relaxation_factor: 2  # gamma\n",
        "  use_keras_batch_norm: false\n",
        "  bn_virtual_bs: 256  # B_v \n",
        "training:\n",
        "  batch_size: 8192  # B\n",
        "  eval_batch_size: 500000  # 65536 131072 262144 524288\n",
        "  epochs: 1000\n",
        "  early_stop: 20\n",
        "  learning_rate: 0.025\n",
        "  optimizer:\n",
        "    type: adam\n",
        "  decay: true\n",
        "  decay_steps: 10000\n",
        "  decay_rate: 0.9\n",
        "  staircase: true\n",
        "  regularization_lambda: 1\n",
        "  validation_field: label\n",
        "  shuffle_buffer_size: 1500000\n",
        "\"\"\""
      ],
      "execution_count": 12,
      "outputs": []
    },
    {
      "cell_type": "code",
      "metadata": {
        "id": "VgykNoSxl1sS"
      },
      "source": [
        "import yaml\n",
        "yaml_data = {'input_features': [{'name': 'H_pt_fit_fallback', 'type': 'numerical'}, {'name': 'V_pt', 'type': 'numerical'}, {'name': 'nAddJets_2lep', 'type': 'numerical'}, {'name': 'SA5', 'type': 'numerical'}, {'name': 'V_mass', 'type': 'numerical'}, {'name': 'MET_Pt', 'type': 'numerical'}, {'name': 'hJets_leadingPt', 'type': 'numerical'}, {'name': 'hJets_subleadingPt', 'type': 'numerical'}, {'name': 'jjVPtRatio', 'type': 'numerical'}, {'name': 'HJ1_HJ2_dEta', 'type': 'numerical'}, {'name': 'HVdPhi_fit_fallback', 'type': 'numerical'}, {'name': 'hJets_btagged_0', 'type': 'numerical'}, {'name': 'hJets_btagged_1', 'type': 'numerical'}, {'name': 'HJ1_HJ2_dR', 'type': 'numerical'}, {'name': 'n_recoil_jets_fit', 'type': 'numerical'}, {'name': 'H_mass_sigma_fit', 'type': 'numerical'}], 'output_features': [{'name': 'Y', 'type': 'binary', 'weight_regularization': None}], 'combiner': {'type': 'tabnet', 'size': 32, 'output_size': 96, 'sparsity': 1e-06, 'bn_virtual_divider': 32, 'bn_momentum': 0.9, 'num_steps': 8, 'relaxation_factor': 2, 'use_keras_batch_norm': False, 'bn_virtual_bs': 256}, 'training': {'batch_size': 8192, 'eval_batch_size': 500000, 'epochs': 1000, 'early_stop': 20, 'learning_rate': 0.025, 'optimizer': {'type': 'adam'}, 'decay': True, 'decay_steps': 10000, 'decay_rate': 0.9, 'staircase': True, 'regularization_lambda': 1, 'validation_field': 'Y', 'shuffle_buffer_size': 1500000}}\n",
        "\n",
        "# Write YAML file\n",
        "with open('higgs.yaml', 'w', encoding='utf8') as outfile:\n",
        "    yaml.dump(yaml_data, outfile, default_flow_style=False, allow_unicode=True)"
      ],
      "execution_count": 43,
      "outputs": []
    },
    {
      "cell_type": "code",
      "metadata": {
        "id": "2y2w-RYImDzk",
        "colab": {
          "base_uri": "https://localhost:8080/"
        },
        "outputId": "d5e3ed9a-eb17-4ec4-9d02-77e85d48d9d4"
      },
      "source": [
        "# Read YAML file\n",
        "with open(\"higgs.yaml\", 'r') as stream:\n",
        "    yml_loaded = yaml.safe_load(stream)\n",
        "\n",
        "print(yml_loaded)"
      ],
      "execution_count": 44,
      "outputs": [
        {
          "output_type": "stream",
          "text": [
            "{'combiner': {'bn_momentum': 0.9, 'bn_virtual_bs': 256, 'bn_virtual_divider': 32, 'num_steps': 8, 'output_size': 96, 'relaxation_factor': 2, 'size': 32, 'sparsity': 1e-06, 'type': 'tabnet', 'use_keras_batch_norm': False}, 'input_features': [{'name': 'H_pt_fit_fallback', 'type': 'numerical'}, {'name': 'V_pt', 'type': 'numerical'}, {'name': 'nAddJets_2lep', 'type': 'numerical'}, {'name': 'SA5', 'type': 'numerical'}, {'name': 'V_mass', 'type': 'numerical'}, {'name': 'MET_Pt', 'type': 'numerical'}, {'name': 'hJets_leadingPt', 'type': 'numerical'}, {'name': 'hJets_subleadingPt', 'type': 'numerical'}, {'name': 'jjVPtRatio', 'type': 'numerical'}, {'name': 'HJ1_HJ2_dEta', 'type': 'numerical'}, {'name': 'HVdPhi_fit_fallback', 'type': 'numerical'}, {'name': 'hJets_btagged_0', 'type': 'numerical'}, {'name': 'hJets_btagged_1', 'type': 'numerical'}, {'name': 'HJ1_HJ2_dR', 'type': 'numerical'}, {'name': 'n_recoil_jets_fit', 'type': 'numerical'}, {'name': 'H_mass_sigma_fit', 'type': 'numerical'}], 'output_features': [{'name': 'Y', 'type': 'binary', 'weight_regularization': None}], 'training': {'batch_size': 8192, 'decay': True, 'decay_rate': 0.9, 'decay_steps': 10000, 'early_stop': 20, 'epochs': 1000, 'eval_batch_size': 500000, 'learning_rate': 0.025, 'optimizer': {'type': 'adam'}, 'regularization_lambda': 1, 'shuffle_buffer_size': 1500000, 'staircase': True, 'validation_field': 'Y'}}\n"
          ],
          "name": "stdout"
        }
      ]
    },
    {
      "cell_type": "code",
      "metadata": {
        "colab": {
          "base_uri": "https://localhost:8080/"
        },
        "id": "5KsiKOoYsKxi",
        "outputId": "6485f801-238b-4ce3-936d-c1588f6dbe41"
      },
      "source": [
        "print(df.head())"
      ],
      "execution_count": 45,
      "outputs": [
        {
          "output_type": "stream",
          "text": [
            "   H_pt_fit_fallback        V_pt  ...  H_mass_sigma_fit    Y\n",
            "0         227.006790  229.563721  ...         17.820295  1.0\n",
            "1         153.907333  154.488251  ...         10.239766  1.0\n",
            "2         155.563187  190.107605  ...         11.275752  1.0\n",
            "3          18.904070  201.898819  ...          0.397262  1.0\n",
            "4         169.643005  168.136353  ...         19.277073  1.0\n",
            "\n",
            "[5 rows x 17 columns]\n"
          ],
          "name": "stdout"
        }
      ]
    },
    {
      "cell_type": "code",
      "metadata": {
        "colab": {
          "base_uri": "https://localhost:8080/",
          "height": 1000
        },
        "id": "zAS91qHDsQxu",
        "outputId": "fe593915-12c5-4c32-82dd-4eab9bb469a1"
      },
      "source": [
        "!pip install ludwig\n",
        "!pip install petastorm\n"
      ],
      "execution_count": 41,
      "outputs": [
        {
          "output_type": "stream",
          "text": [
            "Uninstalling ludwig-0.4:\n",
            "  Successfully uninstalled ludwig-0.4\n",
            "Processing /root/.cache/pip/wheels/eb/c3/fd/e4650be37a75afd05b639d747b479e041583e8cc6fc8f71b63/ludwig-0.4-cp37-none-any.whl\n",
            "Requirement already satisfied: PyYAML>=3.12 in /usr/local/lib/python3.7/dist-packages (from ludwig) (3.13)\n",
            "Requirement already satisfied: numpy>=1.15 in /usr/local/lib/python3.7/dist-packages (from ludwig) (1.19.5)\n",
            "Requirement already satisfied: fsspec in /usr/local/lib/python3.7/dist-packages (from ludwig) (2021.6.1)\n",
            "Requirement already satisfied: lxml in /usr/local/lib/python3.7/dist-packages (from ludwig) (4.2.6)\n",
            "Requirement already satisfied: tensorflow>=2.3.1 in /usr/local/lib/python3.7/dist-packages (from ludwig) (2.5.0)\n",
            "Requirement already satisfied: tables in /usr/local/lib/python3.7/dist-packages (from ludwig) (3.4.4)\n",
            "Requirement already satisfied: absl-py in /usr/local/lib/python3.7/dist-packages (from ludwig) (0.12.0)\n",
            "Requirement already satisfied: openpyxl in /usr/local/lib/python3.7/dist-packages (from ludwig) (2.5.9)\n",
            "Requirement already satisfied: tabulate>=0.7 in /usr/local/lib/python3.7/dist-packages (from ludwig) (0.8.9)\n",
            "Requirement already satisfied: xlwt in /usr/local/lib/python3.7/dist-packages (from ludwig) (1.3.0)\n",
            "Requirement already satisfied: xlrd in /usr/local/lib/python3.7/dist-packages (from ludwig) (1.1.0)\n",
            "Requirement already satisfied: dataclasses-json in /usr/local/lib/python3.7/dist-packages (from ludwig) (0.5.4)\n",
            "Requirement already satisfied: Cython>=0.25 in /usr/local/lib/python3.7/dist-packages (from ludwig) (0.29.23)\n",
            "Requirement already satisfied: jsonschema in /usr/local/lib/python3.7/dist-packages (from ludwig) (2.6.0)\n",
            "Requirement already satisfied: kaggle in /usr/local/lib/python3.7/dist-packages (from ludwig) (1.5.12)\n",
            "Requirement already satisfied: pyarrow in /usr/local/lib/python3.7/dist-packages (from ludwig) (3.0.0)\n",
            "Requirement already satisfied: pandas<1.1.5,>=0.25 in /usr/local/lib/python3.7/dist-packages (from ludwig) (1.1.4)\n",
            "Requirement already satisfied: scipy>=0.18 in /usr/local/lib/python3.7/dist-packages (from ludwig) (1.4.1)\n",
            "Requirement already satisfied: tensorflow-addons>=0.13.0 in /usr/local/lib/python3.7/dist-packages (from ludwig) (0.13.0)\n",
            "Requirement already satisfied: h5py!=3.0.0,>=2.6 in /usr/local/lib/python3.7/dist-packages (from ludwig) (3.1.0)\n",
            "Requirement already satisfied: tqdm in /usr/local/lib/python3.7/dist-packages (from ludwig) (4.41.1)\n",
            "Requirement already satisfied: requests in /usr/local/lib/python3.7/dist-packages (from ludwig) (2.23.0)\n",
            "Requirement already satisfied: scikit-learn in /usr/local/lib/python3.7/dist-packages (from ludwig) (0.22.2.post1)\n",
            "Requirement already satisfied: wheel~=0.35 in /usr/local/lib/python3.7/dist-packages (from tensorflow>=2.3.1->ludwig) (0.36.2)\n",
            "Requirement already satisfied: keras-preprocessing~=1.1.2 in /usr/local/lib/python3.7/dist-packages (from tensorflow>=2.3.1->ludwig) (1.1.2)\n",
            "Requirement already satisfied: tensorboard~=2.5 in /usr/local/lib/python3.7/dist-packages (from tensorflow>=2.3.1->ludwig) (2.5.0)\n",
            "Requirement already satisfied: google-pasta~=0.2 in /usr/local/lib/python3.7/dist-packages (from tensorflow>=2.3.1->ludwig) (0.2.0)\n",
            "Requirement already satisfied: keras-nightly~=2.5.0.dev in /usr/local/lib/python3.7/dist-packages (from tensorflow>=2.3.1->ludwig) (2.5.0.dev2021032900)\n",
            "Requirement already satisfied: six~=1.15.0 in /usr/local/lib/python3.7/dist-packages (from tensorflow>=2.3.1->ludwig) (1.15.0)\n",
            "Requirement already satisfied: protobuf>=3.9.2 in /usr/local/lib/python3.7/dist-packages (from tensorflow>=2.3.1->ludwig) (3.12.4)\n",
            "Requirement already satisfied: opt-einsum~=3.3.0 in /usr/local/lib/python3.7/dist-packages (from tensorflow>=2.3.1->ludwig) (3.3.0)\n",
            "Requirement already satisfied: termcolor~=1.1.0 in /usr/local/lib/python3.7/dist-packages (from tensorflow>=2.3.1->ludwig) (1.1.0)\n",
            "Requirement already satisfied: tensorflow-estimator<2.6.0,>=2.5.0rc0 in /usr/local/lib/python3.7/dist-packages (from tensorflow>=2.3.1->ludwig) (2.5.0)\n",
            "Requirement already satisfied: astunparse~=1.6.3 in /usr/local/lib/python3.7/dist-packages (from tensorflow>=2.3.1->ludwig) (1.6.3)\n",
            "Requirement already satisfied: wrapt~=1.12.1 in /usr/local/lib/python3.7/dist-packages (from tensorflow>=2.3.1->ludwig) (1.12.1)\n",
            "Requirement already satisfied: grpcio~=1.34.0 in /usr/local/lib/python3.7/dist-packages (from tensorflow>=2.3.1->ludwig) (1.34.1)\n",
            "Requirement already satisfied: gast==0.4.0 in /usr/local/lib/python3.7/dist-packages (from tensorflow>=2.3.1->ludwig) (0.4.0)\n",
            "Requirement already satisfied: flatbuffers~=1.12.0 in /usr/local/lib/python3.7/dist-packages (from tensorflow>=2.3.1->ludwig) (1.12)\n",
            "Requirement already satisfied: typing-extensions~=3.7.4 in /usr/local/lib/python3.7/dist-packages (from tensorflow>=2.3.1->ludwig) (3.7.4.3)\n",
            "Requirement already satisfied: numexpr>=2.5.2 in /usr/local/lib/python3.7/dist-packages (from tables->ludwig) (2.7.3)\n",
            "Requirement already satisfied: et-xmlfile in /usr/local/lib/python3.7/dist-packages (from openpyxl->ludwig) (1.1.0)\n",
            "Requirement already satisfied: jdcal in /usr/local/lib/python3.7/dist-packages (from openpyxl->ludwig) (1.4.1)\n",
            "Requirement already satisfied: stringcase<2.0.0,==1.2.0 in /usr/local/lib/python3.7/dist-packages (from dataclasses-json->ludwig) (1.2.0)\n",
            "Requirement already satisfied: marshmallow<4.0.0,>=3.3.0 in /usr/local/lib/python3.7/dist-packages (from dataclasses-json->ludwig) (3.12.1)\n",
            "Requirement already satisfied: typing-inspect>=0.4.0 in /usr/local/lib/python3.7/dist-packages (from dataclasses-json->ludwig) (0.7.1)\n",
            "Requirement already satisfied: marshmallow-enum<2.0.0,>=1.5.1 in /usr/local/lib/python3.7/dist-packages (from dataclasses-json->ludwig) (1.5.1)\n",
            "Requirement already satisfied: urllib3 in /usr/local/lib/python3.7/dist-packages (from kaggle->ludwig) (1.24.3)\n",
            "Requirement already satisfied: python-dateutil in /usr/local/lib/python3.7/dist-packages (from kaggle->ludwig) (2.8.1)\n",
            "Requirement already satisfied: python-slugify in /usr/local/lib/python3.7/dist-packages (from kaggle->ludwig) (5.0.2)\n",
            "Requirement already satisfied: certifi in /usr/local/lib/python3.7/dist-packages (from kaggle->ludwig) (2021.5.30)\n",
            "Requirement already satisfied: pytz>=2017.2 in /usr/local/lib/python3.7/dist-packages (from pandas<1.1.5,>=0.25->ludwig) (2018.9)\n",
            "Requirement already satisfied: typeguard>=2.7 in /usr/local/lib/python3.7/dist-packages (from tensorflow-addons>=0.13.0->ludwig) (2.7.1)\n",
            "Requirement already satisfied: cached-property; python_version < \"3.8\" in /usr/local/lib/python3.7/dist-packages (from h5py!=3.0.0,>=2.6->ludwig) (1.5.2)\n",
            "Requirement already satisfied: idna<3,>=2.5 in /usr/local/lib/python3.7/dist-packages (from requests->ludwig) (2.10)\n",
            "Requirement already satisfied: chardet<4,>=3.0.2 in /usr/local/lib/python3.7/dist-packages (from requests->ludwig) (3.0.4)\n",
            "Requirement already satisfied: joblib>=0.11 in /usr/local/lib/python3.7/dist-packages (from scikit-learn->ludwig) (1.0.1)\n",
            "Requirement already satisfied: google-auth-oauthlib<0.5,>=0.4.1 in /usr/local/lib/python3.7/dist-packages (from tensorboard~=2.5->tensorflow>=2.3.1->ludwig) (0.4.4)\n",
            "Requirement already satisfied: markdown>=2.6.8 in /usr/local/lib/python3.7/dist-packages (from tensorboard~=2.5->tensorflow>=2.3.1->ludwig) (3.3.4)\n",
            "Requirement already satisfied: tensorboard-data-server<0.7.0,>=0.6.0 in /usr/local/lib/python3.7/dist-packages (from tensorboard~=2.5->tensorflow>=2.3.1->ludwig) (0.6.1)\n",
            "Requirement already satisfied: tensorboard-plugin-wit>=1.6.0 in /usr/local/lib/python3.7/dist-packages (from tensorboard~=2.5->tensorflow>=2.3.1->ludwig) (1.8.0)\n",
            "Requirement already satisfied: werkzeug>=0.11.15 in /usr/local/lib/python3.7/dist-packages (from tensorboard~=2.5->tensorflow>=2.3.1->ludwig) (1.0.1)\n",
            "Requirement already satisfied: setuptools>=41.0.0 in /usr/local/lib/python3.7/dist-packages (from tensorboard~=2.5->tensorflow>=2.3.1->ludwig) (57.0.0)\n",
            "Requirement already satisfied: google-auth<2,>=1.6.3 in /usr/local/lib/python3.7/dist-packages (from tensorboard~=2.5->tensorflow>=2.3.1->ludwig) (1.31.0)\n",
            "Requirement already satisfied: mypy-extensions>=0.3.0 in /usr/local/lib/python3.7/dist-packages (from typing-inspect>=0.4.0->dataclasses-json->ludwig) (0.4.3)\n",
            "Requirement already satisfied: text-unidecode>=1.3 in /usr/local/lib/python3.7/dist-packages (from python-slugify->kaggle->ludwig) (1.3)\n",
            "Requirement already satisfied: requests-oauthlib>=0.7.0 in /usr/local/lib/python3.7/dist-packages (from google-auth-oauthlib<0.5,>=0.4.1->tensorboard~=2.5->tensorflow>=2.3.1->ludwig) (1.3.0)\n",
            "Requirement already satisfied: importlib-metadata; python_version < \"3.8\" in /usr/local/lib/python3.7/dist-packages (from markdown>=2.6.8->tensorboard~=2.5->tensorflow>=2.3.1->ludwig) (4.5.0)\n",
            "Requirement already satisfied: pyasn1-modules>=0.2.1 in /usr/local/lib/python3.7/dist-packages (from google-auth<2,>=1.6.3->tensorboard~=2.5->tensorflow>=2.3.1->ludwig) (0.2.8)\n",
            "Requirement already satisfied: rsa<5,>=3.1.4; python_version >= \"3.6\" in /usr/local/lib/python3.7/dist-packages (from google-auth<2,>=1.6.3->tensorboard~=2.5->tensorflow>=2.3.1->ludwig) (4.7.2)\n",
            "Requirement already satisfied: cachetools<5.0,>=2.0.0 in /usr/local/lib/python3.7/dist-packages (from google-auth<2,>=1.6.3->tensorboard~=2.5->tensorflow>=2.3.1->ludwig) (4.2.2)\n",
            "Requirement already satisfied: oauthlib>=3.0.0 in /usr/local/lib/python3.7/dist-packages (from requests-oauthlib>=0.7.0->google-auth-oauthlib<0.5,>=0.4.1->tensorboard~=2.5->tensorflow>=2.3.1->ludwig) (3.1.1)\n",
            "Requirement already satisfied: zipp>=0.5 in /usr/local/lib/python3.7/dist-packages (from importlib-metadata; python_version < \"3.8\"->markdown>=2.6.8->tensorboard~=2.5->tensorflow>=2.3.1->ludwig) (3.4.1)\n",
            "Requirement already satisfied: pyasn1<0.5.0,>=0.4.6 in /usr/local/lib/python3.7/dist-packages (from pyasn1-modules>=0.2.1->google-auth<2,>=1.6.3->tensorboard~=2.5->tensorflow>=2.3.1->ludwig) (0.4.8)\n",
            "Installing collected packages: ludwig\n",
            "Successfully installed ludwig-0.4\n"
          ],
          "name": "stdout"
        },
        {
          "output_type": "display_data",
          "data": {
            "application/vnd.colab-display-data+json": {
              "pip_warning": {
                "packages": [
                  "ludwig"
                ]
              }
            }
          },
          "metadata": {
            "tags": []
          }
        },
        {
          "output_type": "stream",
          "text": [
            "Requirement already satisfied: petastorm in /usr/local/lib/python3.7/dist-packages (0.11.1)\n",
            "Requirement already satisfied: numpy>=1.13.3 in /usr/local/lib/python3.7/dist-packages (from petastorm) (1.19.5)\n",
            "Requirement already satisfied: packaging>=15.0 in /usr/local/lib/python3.7/dist-packages (from petastorm) (20.9)\n",
            "Requirement already satisfied: pyzmq>=14.0.0 in /usr/local/lib/python3.7/dist-packages (from petastorm) (22.1.0)\n",
            "Requirement already satisfied: diskcache>=3.0.0 in /usr/local/lib/python3.7/dist-packages (from petastorm) (5.2.1)\n",
            "Requirement already satisfied: psutil>=4.0.0 in /usr/local/lib/python3.7/dist-packages (from petastorm) (5.4.8)\n",
            "Requirement already satisfied: pyspark>=2.1.0 in /usr/local/lib/python3.7/dist-packages (from petastorm) (3.1.2)\n",
            "Requirement already satisfied: dill>=0.2.1 in /usr/local/lib/python3.7/dist-packages (from petastorm) (0.3.4)\n",
            "Requirement already satisfied: six>=1.5.0 in /usr/local/lib/python3.7/dist-packages (from petastorm) (1.15.0)\n",
            "Requirement already satisfied: pyarrow>=0.17.1 in /usr/local/lib/python3.7/dist-packages (from petastorm) (3.0.0)\n",
            "Requirement already satisfied: pandas>=0.19.0 in /usr/local/lib/python3.7/dist-packages (from petastorm) (1.1.4)\n",
            "Requirement already satisfied: future>=0.10.2 in /usr/local/lib/python3.7/dist-packages (from petastorm) (0.16.0)\n",
            "Requirement already satisfied: fsspec in /usr/local/lib/python3.7/dist-packages (from petastorm) (2021.6.1)\n",
            "Requirement already satisfied: pyparsing>=2.0.2 in /usr/local/lib/python3.7/dist-packages (from packaging>=15.0->petastorm) (2.4.7)\n",
            "Requirement already satisfied: py4j==0.10.9 in /usr/local/lib/python3.7/dist-packages (from pyspark>=2.1.0->petastorm) (0.10.9)\n",
            "Requirement already satisfied: python-dateutil>=2.7.3 in /usr/local/lib/python3.7/dist-packages (from pandas>=0.19.0->petastorm) (2.8.1)\n",
            "Requirement already satisfied: pytz>=2017.2 in /usr/local/lib/python3.7/dist-packages (from pandas>=0.19.0->petastorm) (2018.9)\n"
          ],
          "name": "stdout"
        }
      ]
    },
    {
      "cell_type": "code",
      "metadata": {
        "id": "-5JoCkhJ2ViJ"
      },
      "source": [
        "df.to_csv(\"higgs.csv\")"
      ],
      "execution_count": 35,
      "outputs": []
    },
    {
      "cell_type": "code",
      "metadata": {
        "colab": {
          "base_uri": "https://localhost:8080/"
        },
        "id": "AV0pSDOe2T61",
        "outputId": "6c4dc4b2-5fbb-42d5-a460-0067dc3a8e46"
      },
      "source": [
        "!ludwig train --dataset higgs.csv --config higgs.yaml\n"
      ],
      "execution_count": null,
      "outputs": [
        {
          "output_type": "stream",
          "text": [
            "2021-07-04 18:59:45.627841: I tensorflow/stream_executor/platform/default/dso_loader.cc:53] Successfully opened dynamic library libcudart.so.11.0\n",
            "███████████████████████\n",
            "█ █ █ █  ▜█ █ █ █ █   █\n",
            "█ █ █ █ █ █ █ █ █ █ ███\n",
            "█ █   █ █ █ █ █ █ █ ▌ █\n",
            "█ █████ █ █ █ █ █ █ █ █\n",
            "█     █  ▟█     █ █   █\n",
            "███████████████████████\n",
            "ludwig v0.4 - Train\n",
            "\n",
            "2021-07-04 18:59:46.868701: I tensorflow/stream_executor/platform/default/dso_loader.cc:53] Successfully opened dynamic library libcuda.so.1\n",
            "2021-07-04 18:59:46.878404: E tensorflow/stream_executor/cuda/cuda_driver.cc:328] failed call to cuInit: CUDA_ERROR_NO_DEVICE: no CUDA-capable device is detected\n",
            "2021-07-04 18:59:46.878444: I tensorflow/stream_executor/cuda/cuda_diagnostics.cc:156] kernel driver does not appear to be running on this host (776879d77f83): /proc/driver/nvidia/version does not exist\n",
            "Experiment name: experiment\n",
            "Model name: run\n",
            "Output directory: results/experiment_run_1\n",
            "\n",
            "\n",
            "ludwig_version: '0.4'\n",
            "command: '/usr/local/bin/ludwig train --dataset higgs.csv --config higgs.yaml'\n",
            "random_seed: 42\n",
            "dataset: 'higgs.csv'\n",
            "data_format: 'csv'\n",
            "config: {   'combiner': {   'bn_momentum': 0.9,\n",
            "                    'bn_virtual_bs': 256,\n",
            "                    'bn_virtual_divider': 32,\n",
            "                    'num_steps': 8,\n",
            "                    'output_size': 96,\n",
            "                    'relaxation_factor': 2,\n",
            "                    'size': 32,\n",
            "                    'sparsity': 1e-06,\n",
            "                    'type': 'tabnet',\n",
            "                    'use_keras_batch_norm': False},\n",
            "    'input_features': [   {   'column': 'H_pt_fit_fallback',\n",
            "                              'name': 'H_pt_fit_fallback',\n",
            "                              'proc_column': 'H_pt_fit_fallback_mZFLky',\n",
            "                              'tied': None,\n",
            "                              'type': 'numerical'},\n",
            "                          {   'column': 'V_pt',\n",
            "                              'name': 'V_pt',\n",
            "                              'proc_column': 'V_pt_mZFLky',\n",
            "                              'tied': None,\n",
            "                              'type': 'numerical'},\n",
            "                          {   'column': 'nAddJets_2lep',\n",
            "                              'name': 'nAddJets_2lep',\n",
            "                              'proc_column': 'nAddJets_2lep_mZFLky',\n",
            "                              'tied': None,\n",
            "                              'type': 'numerical'},\n",
            "                          {   'column': 'SA5',\n",
            "                              'name': 'SA5',\n",
            "                              'proc_column': 'SA5_mZFLky',\n",
            "                              'tied': None,\n",
            "                              'type': 'numerical'},\n",
            "                          {   'column': 'V_mass',\n",
            "                              'name': 'V_mass',\n",
            "                              'proc_column': 'V_mass_mZFLky',\n",
            "                              'tied': None,\n",
            "                              'type': 'numerical'},\n",
            "                          {   'column': 'MET_Pt',\n",
            "                              'name': 'MET_Pt',\n",
            "                              'proc_column': 'MET_Pt_mZFLky',\n",
            "                              'tied': None,\n",
            "                              'type': 'numerical'},\n",
            "                          {   'column': 'hJets_leadingPt',\n",
            "                              'name': 'hJets_leadingPt',\n",
            "                              'proc_column': 'hJets_leadingPt_mZFLky',\n",
            "                              'tied': None,\n",
            "                              'type': 'numerical'},\n",
            "                          {   'column': 'hJets_subleadingPt',\n",
            "                              'name': 'hJets_subleadingPt',\n",
            "                              'proc_column': 'hJets_subleadingPt_mZFLky',\n",
            "                              'tied': None,\n",
            "                              'type': 'numerical'},\n",
            "                          {   'column': 'jjVPtRatio',\n",
            "                              'name': 'jjVPtRatio',\n",
            "                              'proc_column': 'jjVPtRatio_mZFLky',\n",
            "                              'tied': None,\n",
            "                              'type': 'numerical'},\n",
            "                          {   'column': 'HJ1_HJ2_dEta',\n",
            "                              'name': 'HJ1_HJ2_dEta',\n",
            "                              'proc_column': 'HJ1_HJ2_dEta_mZFLky',\n",
            "                              'tied': None,\n",
            "                              'type': 'numerical'},\n",
            "                          {   'column': 'HVdPhi_fit_fallback',\n",
            "                              'name': 'HVdPhi_fit_fallback',\n",
            "                              'proc_column': 'HVdPhi_fit_fallback_mZFLky',\n",
            "                              'tied': None,\n",
            "                              'type': 'numerical'},\n",
            "                          {   'column': 'hJets_btagged_0',\n",
            "                              'name': 'hJets_btagged_0',\n",
            "                              'proc_column': 'hJets_btagged_0_mZFLky',\n",
            "                              'tied': None,\n",
            "                              'type': 'numerical'},\n",
            "                          {   'column': 'hJets_btagged_1',\n",
            "                              'name': 'hJets_btagged_1',\n",
            "                              'proc_column': 'hJets_btagged_1_mZFLky',\n",
            "                              'tied': None,\n",
            "                              'type': 'numerical'},\n",
            "                          {   'column': 'HJ1_HJ2_dR',\n",
            "                              'name': 'HJ1_HJ2_dR',\n",
            "                              'proc_column': 'HJ1_HJ2_dR_mZFLky',\n",
            "                              'tied': None,\n",
            "                              'type': 'numerical'},\n",
            "                          {   'column': 'n_recoil_jets_fit',\n",
            "                              'name': 'n_recoil_jets_fit',\n",
            "                              'proc_column': 'n_recoil_jets_fit_mZFLky',\n",
            "                              'tied': None,\n",
            "                              'type': 'numerical'},\n",
            "                          {   'column': 'H_mass_sigma_fit',\n",
            "                              'name': 'H_mass_sigma_fit',\n",
            "                              'proc_column': 'H_mass_sigma_fit_mZFLky',\n",
            "                              'tied': None,\n",
            "                              'type': 'numerical'}],\n",
            "    'output_features': [   {   'column': 'Y',\n",
            "                               'dependencies': [],\n",
            "                               'loss': {   'confidence_penalty': 0,\n",
            "                                           'positive_class_weight': 1,\n",
            "                                           'robust_lambda': 0,\n",
            "                                           'weight': 1},\n",
            "                               'name': 'Y',\n",
            "                               'proc_column': 'Y_mZFLky',\n",
            "                               'reduce_dependencies': 'sum',\n",
            "                               'reduce_input': 'sum',\n",
            "                               'threshold': 0.5,\n",
            "                               'type': 'binary',\n",
            "                               'weight_regularization': None}],\n",
            "    'preprocessing': {   'audio': {   'audio_feature': {'type': 'raw'},\n",
            "                                      'audio_file_length_limit_in_s': 7.5,\n",
            "                                      'in_memory': True,\n",
            "                                      'missing_value_strategy': 'backfill',\n",
            "                                      'norm': None,\n",
            "                                      'padding_value': 0},\n",
            "                         'bag': {   'fill_value': '<UNK>',\n",
            "                                    'lowercase': False,\n",
            "                                    'missing_value_strategy': 'fill_with_const',\n",
            "                                    'most_common': 10000,\n",
            "                                    'tokenizer': 'space'},\n",
            "                         'binary': {   'fill_value': 0,\n",
            "                                       'missing_value_strategy': 'fill_with_const'},\n",
            "                         'category': {   'fill_value': '<UNK>',\n",
            "                                         'lowercase': False,\n",
            "                                         'missing_value_strategy': 'fill_with_const',\n",
            "                                         'most_common': 10000},\n",
            "                         'date': {   'datetime_format': None,\n",
            "                                     'fill_value': '',\n",
            "                                     'missing_value_strategy': 'fill_with_const'},\n",
            "                         'force_split': False,\n",
            "                         'h3': {   'fill_value': 576495936675512319,\n",
            "                                   'missing_value_strategy': 'fill_with_const'},\n",
            "                         'image': {   'in_memory': True,\n",
            "                                      'missing_value_strategy': 'backfill',\n",
            "                                      'num_processes': 1,\n",
            "                                      'resize_method': 'interpolate',\n",
            "                                      'scaling': 'pixel_normalization'},\n",
            "                         'numerical': {   'fill_value': 0,\n",
            "                                          'missing_value_strategy': 'fill_with_const',\n",
            "                                          'normalization': None},\n",
            "                         'sequence': {   'fill_value': '<UNK>',\n",
            "                                         'lowercase': False,\n",
            "                                         'missing_value_strategy': 'fill_with_const',\n",
            "                                         'most_common': 20000,\n",
            "                                         'padding': 'right',\n",
            "                                         'padding_symbol': '<PAD>',\n",
            "                                         'sequence_length_limit': 256,\n",
            "                                         'tokenizer': 'space',\n",
            "                                         'unknown_symbol': '<UNK>',\n",
            "                                         'vocab_file': None},\n",
            "                         'set': {   'fill_value': '<UNK>',\n",
            "                                    'lowercase': False,\n",
            "                                    'missing_value_strategy': 'fill_with_const',\n",
            "                                    'most_common': 10000,\n",
            "                                    'tokenizer': 'space'},\n",
            "                         'split_probabilities': (0.7, 0.1, 0.2),\n",
            "                         'stratify': None,\n",
            "                         'text': {   'char_most_common': 70,\n",
            "                                     'char_sequence_length_limit': 1024,\n",
            "                                     'char_tokenizer': 'characters',\n",
            "                                     'char_vocab_file': None,\n",
            "                                     'fill_value': '<UNK>',\n",
            "                                     'lowercase': True,\n",
            "                                     'missing_value_strategy': 'fill_with_const',\n",
            "                                     'padding': 'right',\n",
            "                                     'padding_symbol': '<PAD>',\n",
            "                                     'pretrained_model_name_or_path': None,\n",
            "                                     'unknown_symbol': '<UNK>',\n",
            "                                     'word_most_common': 20000,\n",
            "                                     'word_sequence_length_limit': 256,\n",
            "                                     'word_tokenizer': 'space_punct',\n",
            "                                     'word_vocab_file': None},\n",
            "                         'timeseries': {   'fill_value': '',\n",
            "                                           'missing_value_strategy': 'fill_with_const',\n",
            "                                           'padding': 'right',\n",
            "                                           'padding_value': 0,\n",
            "                                           'timeseries_length_limit': 256,\n",
            "                                           'tokenizer': 'space'},\n",
            "                         'vector': {   'fill_value': '',\n",
            "                                       'missing_value_strategy': 'fill_with_const'}},\n",
            "    'training': {   'batch_size': 8192,\n",
            "                    'bucketing_field': None,\n",
            "                    'decay': True,\n",
            "                    'decay_rate': 0.9,\n",
            "                    'decay_steps': 10000,\n",
            "                    'early_stop': 20,\n",
            "                    'epochs': 1000,\n",
            "                    'eval_batch_size': 500000,\n",
            "                    'gradient_clipping': None,\n",
            "                    'increase_batch_size_on_plateau': 0,\n",
            "                    'increase_batch_size_on_plateau_max': 512,\n",
            "                    'increase_batch_size_on_plateau_patience': 5,\n",
            "                    'increase_batch_size_on_plateau_rate': 2,\n",
            "                    'learning_rate': 0.025,\n",
            "                    'learning_rate_warmup_epochs': 1,\n",
            "                    'optimizer': {   'beta_1': 0.9,\n",
            "                                     'beta_2': 0.999,\n",
            "                                     'epsilon': 1e-08,\n",
            "                                     'type': 'adam'},\n",
            "                    'reduce_learning_rate_on_plateau': 0,\n",
            "                    'reduce_learning_rate_on_plateau_patience': 5,\n",
            "                    'reduce_learning_rate_on_plateau_rate': 0.5,\n",
            "                    'regularization_lambda': 1,\n",
            "                    'shuffle_buffer_size': 1500000,\n",
            "                    'staircase': True,\n",
            "                    'validation_field': 'Y',\n",
            "                    'validation_metric': 'loss'}}\n",
            "tf_version: '2.5.0'\n",
            "\n",
            "\n",
            "Found cached dataset and meta.json with the same filename of the dataset, using them instead\n",
            "Using full hdf5 and json\n",
            "Loading data from: higgs.training.hdf5\n",
            "Loading data from: higgs.validation.hdf5\n",
            "Loading data from: higgs.test.hdf5\n",
            "Training set: 451075\n",
            "Validation set: 64353\n",
            "Test set: 128710\n",
            "2021-07-04 19:00:09.654027: I tensorflow/core/platform/cpu_feature_guard.cc:142] This TensorFlow binary is optimized with oneAPI Deep Neural Network Library (oneDNN) to use the following CPU instructions in performance-critical operations:  AVX512F\n",
            "To enable them in other operations, rebuild TensorFlow with the appropriate compiler flags.\n",
            "\n",
            "╒══════════╕\n",
            "│ TRAINING │\n",
            "╘══════════╛\n",
            "\n",
            "\n",
            "Epoch    1\n",
            "Training:   0% 0/56 [00:00<?, ?it/s]2021-07-04 19:02:11.417796: I tensorflow/compiler/mlir/mlir_graph_optimization_pass.cc:176] None of the MLIR Optimization Passes are enabled (registered 2)\n",
            "2021-07-04 19:02:12.288284: I tensorflow/core/platform/profile_utils/cpu_utils.cc:114] CPU Frequency: 2000150000 Hz\n",
            "Training: 100% 56/56 [05:10<00:00,  5.55s/it]\n",
            "Evaluation train: 100% 1/1 [00:27<00:00, 27.02s/it]\n",
            "Evaluation vali : 100% 1/1 [00:05<00:00,  5.13s/it]\n",
            "Evaluation test : 100% 1/1 [00:08<00:00,  8.52s/it]\n",
            "Took 5m 51.6033s\n",
            "╒═══════╤════════╤════════════╕\n",
            "│ Y     │   loss │   accuracy │\n",
            "╞═══════╪════════╪════════════╡\n",
            "│ train │ 0.5268 │     0.7953 │\n",
            "├───────┼────────┼────────────┤\n",
            "│ vali  │ 0.5291 │     0.7930 │\n",
            "├───────┼────────┼────────────┤\n",
            "│ test  │ 0.5269 │     0.7956 │\n",
            "╘═══════╧════════╧════════════╛\n",
            "╒════════════╤════════╕\n",
            "│ combined   │   loss │\n",
            "╞════════════╪════════╡\n",
            "│ train      │ 0.5268 │\n",
            "├────────────┼────────┤\n",
            "│ vali       │ 0.5291 │\n",
            "├────────────┼────────┤\n",
            "│ test       │ 0.5269 │\n",
            "╘════════════╧════════╛\n",
            "Validation loss on Y improved, model saved\n",
            "\n",
            "\n",
            "Epoch    2\n",
            "Training: 100% 56/56 [02:07<00:00,  2.28s/it]\n",
            "Evaluation train: 100% 1/1 [00:23<00:00, 23.58s/it]\n",
            "Evaluation vali : 100% 1/1 [00:03<00:00,  3.31s/it]\n",
            "Evaluation test : 100% 1/1 [00:06<00:00,  6.66s/it]\n",
            "Took 2m 41.3109s\n",
            "╒═══════╤════════╤════════════╕\n",
            "│ Y     │   loss │   accuracy │\n",
            "╞═══════╪════════╪════════════╡\n",
            "│ train │ 0.4490 │     0.8181 │\n",
            "├───────┼────────┼────────────┤\n",
            "│ vali  │ 0.4501 │     0.8172 │\n",
            "├───────┼────────┼────────────┤\n",
            "│ test  │ 0.4476 │     0.8190 │\n",
            "╘═══════╧════════╧════════════╛\n",
            "╒════════════╤════════╕\n",
            "│ combined   │   loss │\n",
            "╞════════════╪════════╡\n",
            "│ train      │ 0.4490 │\n",
            "├────────────┼────────┤\n",
            "│ vali       │ 0.4501 │\n",
            "├────────────┼────────┤\n",
            "│ test       │ 0.4476 │\n",
            "╘════════════╧════════╛\n",
            "Validation loss on Y improved, model saved\n",
            "\n",
            "\n",
            "Epoch    3\n",
            "Training: 100% 56/56 [02:04<00:00,  2.22s/it]\n",
            "Evaluation train: 100% 1/1 [00:22<00:00, 22.09s/it]\n",
            "Evaluation vali : 100% 1/1 [00:03<00:00,  3.04s/it]\n",
            "Evaluation test : 100% 1/1 [00:06<00:00,  6.41s/it]\n",
            "Took 2m 36.926s\n",
            "╒═══════╤════════╤════════════╕\n",
            "│ Y     │   loss │   accuracy │\n",
            "╞═══════╪════════╪════════════╡\n",
            "│ train │ 0.4043 │     0.8370 │\n",
            "├───────┼────────┼────────────┤\n",
            "│ vali  │ 0.4043 │     0.8367 │\n",
            "├───────┼────────┼────────────┤\n",
            "│ test  │ 0.4042 │     0.8378 │\n",
            "╘═══════╧════════╧════════════╛\n",
            "╒════════════╤════════╕\n",
            "│ combined   │   loss │\n",
            "╞════════════╪════════╡\n",
            "│ train      │ 0.4043 │\n",
            "├────────────┼────────┤\n",
            "│ vali       │ 0.4043 │\n",
            "├────────────┼────────┤\n",
            "│ test       │ 0.4042 │\n",
            "╘════════════╧════════╛\n",
            "Validation loss on Y improved, model saved\n",
            "\n",
            "\n",
            "Epoch    4\n",
            "Training: 100% 56/56 [02:04<00:00,  2.22s/it]\n",
            "Evaluation train: 100% 1/1 [00:22<00:00, 22.02s/it]\n",
            "Evaluation vali : 100% 1/1 [00:03<00:00,  3.01s/it]\n",
            "Evaluation test : 100% 1/1 [00:06<00:00,  6.55s/it]\n",
            "Took 2m 35.7362s\n",
            "╒═══════╤════════╤════════════╕\n",
            "│ Y     │   loss │   accuracy │\n",
            "╞═══════╪════════╪════════════╡\n",
            "│ train │ 0.4001 │     0.8390 │\n",
            "├───────┼────────┼────────────┤\n",
            "│ vali  │ 0.4001 │     0.8389 │\n",
            "├───────┼────────┼────────────┤\n",
            "│ test  │ 0.4000 │     0.8391 │\n",
            "╘═══════╧════════╧════════════╛\n",
            "╒════════════╤════════╕\n",
            "│ combined   │   loss │\n",
            "╞════════════╪════════╡\n",
            "│ train      │ 0.4001 │\n",
            "├────────────┼────────┤\n",
            "│ vali       │ 0.4001 │\n",
            "├────────────┼────────┤\n",
            "│ test       │ 0.4000 │\n",
            "╘════════════╧════════╛\n",
            "Validation loss on Y improved, model saved\n",
            "\n",
            "\n",
            "Epoch    5\n",
            "Training: 100% 56/56 [02:03<00:00,  2.20s/it]\n",
            "Evaluation train: 100% 1/1 [00:21<00:00, 21.74s/it]\n",
            "Evaluation vali : 100% 1/1 [00:02<00:00,  2.96s/it]\n",
            "Evaluation test : 100% 1/1 [00:06<00:00,  6.44s/it]\n",
            "Took 2m 34.5061s\n",
            "╒═══════╤════════╤════════════╕\n",
            "│ Y     │   loss │   accuracy │\n",
            "╞═══════╪════════╪════════════╡\n",
            "│ train │ 0.4016 │     0.8382 │\n",
            "├───────┼────────┼────────────┤\n",
            "│ vali  │ 0.4001 │     0.8401 │\n",
            "├───────┼────────┼────────────┤\n",
            "│ test  │ 0.4019 │     0.8384 │\n",
            "╘═══════╧════════╧════════════╛\n",
            "╒════════════╤════════╕\n",
            "│ combined   │   loss │\n",
            "╞════════════╪════════╡\n",
            "│ train      │ 0.4016 │\n",
            "├────────────┼────────┤\n",
            "│ vali       │ 0.4001 │\n",
            "├────────────┼────────┤\n",
            "│ test       │ 0.4019 │\n",
            "╘════════════╧════════╛\n",
            "Validation loss on Y improved, model saved\n",
            "\n",
            "\n",
            "Epoch    6\n",
            "Training: 100% 56/56 [02:03<00:00,  2.21s/it]\n",
            "Evaluation train: 100% 1/1 [00:22<00:00, 22.05s/it]\n",
            "Evaluation vali : 100% 1/1 [00:02<00:00,  2.95s/it]\n",
            "Evaluation test : 100% 1/1 [00:06<00:00,  6.56s/it]\n",
            "Took 2m 35.4685s\n",
            "╒═══════╤════════╤════════════╕\n",
            "│ Y     │   loss │   accuracy │\n",
            "╞═══════╪════════╪════════════╡\n",
            "│ train │ 0.4168 │     0.8309 │\n",
            "├───────┼────────┼────────────┤\n",
            "│ vali  │ 0.4165 │     0.8309 │\n",
            "├───────┼────────┼────────────┤\n",
            "│ test  │ 0.4164 │     0.8312 │\n",
            "╘═══════╧════════╧════════════╛\n",
            "╒════════════╤════════╕\n",
            "│ combined   │   loss │\n",
            "╞════════════╪════════╡\n",
            "│ train      │ 0.4168 │\n",
            "├────────────┼────────┤\n",
            "│ vali       │ 0.4165 │\n",
            "├────────────┼────────┤\n",
            "│ test       │ 0.4164 │\n",
            "╘════════════╧════════╛\n",
            "Last improvement of Y validation loss happened 1 epoch ago\n",
            "\n",
            "\n",
            "Epoch    7\n",
            "Training: 100% 56/56 [02:02<00:00,  2.20s/it]\n",
            "Evaluation train: 100% 1/1 [00:21<00:00, 21.75s/it]\n",
            "Evaluation vali : 100% 1/1 [00:02<00:00,  2.97s/it]\n",
            "Evaluation test : 100% 1/1 [00:06<00:00,  6.35s/it]\n",
            "Took 2m 34.6507s\n",
            "╒═══════╤════════╤════════════╕\n",
            "│ Y     │   loss │   accuracy │\n",
            "╞═══════╪════════╪════════════╡\n",
            "│ train │ 0.4055 │     0.8364 │\n",
            "├───────┼────────┼────────────┤\n",
            "│ vali  │ 0.4053 │     0.8371 │\n",
            "├───────┼────────┼────────────┤\n",
            "│ test  │ 0.4063 │     0.8380 │\n",
            "╘═══════╧════════╧════════════╛\n",
            "╒════════════╤════════╕\n",
            "│ combined   │   loss │\n",
            "╞════════════╪════════╡\n",
            "│ train      │ 0.4055 │\n",
            "├────────────┼────────┤\n",
            "│ vali       │ 0.4053 │\n",
            "├────────────┼────────┤\n",
            "│ test       │ 0.4063 │\n",
            "╘════════════╧════════╛\n",
            "Last improvement of Y validation loss happened 2 epochs ago\n",
            "\n",
            "\n",
            "Epoch    8\n",
            "Training: 100% 56/56 [02:02<00:00,  2.19s/it]\n",
            "Evaluation train: 100% 1/1 [00:22<00:00, 22.10s/it]\n",
            "Evaluation vali : 100% 1/1 [00:02<00:00,  2.96s/it]\n",
            "Evaluation test : 100% 1/1 [00:06<00:00,  6.36s/it]\n",
            "Took 2m 34.3528s\n",
            "╒═══════╤════════╤════════════╕\n",
            "│ Y     │   loss │   accuracy │\n",
            "╞═══════╪════════╪════════════╡\n",
            "│ train │ 0.4038 │     0.8369 │\n",
            "├───────┼────────┼────────────┤\n",
            "│ vali  │ 0.4048 │     0.8357 │\n",
            "├───────┼────────┼────────────┤\n",
            "│ test  │ 0.4040 │     0.8369 │\n",
            "╘═══════╧════════╧════════════╛\n",
            "╒════════════╤════════╕\n",
            "│ combined   │   loss │\n",
            "╞════════════╪════════╡\n",
            "│ train      │ 0.4038 │\n",
            "├────────────┼────────┤\n",
            "│ vali       │ 0.4048 │\n",
            "├────────────┼────────┤\n",
            "│ test       │ 0.4040 │\n",
            "╘════════════╧════════╛\n",
            "Last improvement of Y validation loss happened 3 epochs ago\n",
            "\n",
            "\n",
            "Epoch    9\n",
            "Training: 100% 56/56 [02:04<00:00,  2.22s/it]\n",
            "Evaluation train: 100% 1/1 [00:22<00:00, 22.03s/it]\n",
            "Evaluation vali : 100% 1/1 [00:03<00:00,  3.10s/it]\n",
            "Evaluation test : 100% 1/1 [00:06<00:00,  6.47s/it]\n",
            "Took 2m 35.9879s\n",
            "╒═══════╤════════╤════════════╕\n",
            "│ Y     │   loss │   accuracy │\n",
            "╞═══════╪════════╪════════════╡\n",
            "│ train │ 0.4067 │     0.8363 │\n",
            "├───────┼────────┼────────────┤\n",
            "│ vali  │ 0.4069 │     0.8369 │\n",
            "├───────┼────────┼────────────┤\n",
            "│ test  │ 0.4075 │     0.8371 │\n",
            "╘═══════╧════════╧════════════╛\n",
            "╒════════════╤════════╕\n",
            "│ combined   │   loss │\n",
            "╞════════════╪════════╡\n",
            "│ train      │ 0.4067 │\n",
            "├────────────┼────────┤\n",
            "│ vali       │ 0.4069 │\n",
            "├────────────┼────────┤\n",
            "│ test       │ 0.4075 │\n",
            "╘════════════╧════════╛\n",
            "Last improvement of Y validation loss happened 4 epochs ago\n",
            "\n",
            "\n",
            "Epoch   10\n",
            "Training: 100% 56/56 [02:04<00:00,  2.23s/it]\n",
            "Evaluation train: 100% 1/1 [00:21<00:00, 21.82s/it]\n",
            "Evaluation vali : 100% 1/1 [00:02<00:00,  2.94s/it]\n",
            "Evaluation test : 100% 1/1 [00:06<00:00,  6.34s/it]\n",
            "Took 2m 35.8266s\n",
            "╒═══════╤════════╤════════════╕\n",
            "│ Y     │   loss │   accuracy │\n",
            "╞═══════╪════════╪════════════╡\n",
            "│ train │ 0.3965 │     0.8422 │\n",
            "├───────┼────────┼────────────┤\n",
            "│ vali  │ 0.3962 │     0.8425 │\n",
            "├───────┼────────┼────────────┤\n",
            "│ test  │ 0.3969 │     0.8429 │\n",
            "╘═══════╧════════╧════════════╛\n",
            "╒════════════╤════════╕\n",
            "│ combined   │   loss │\n",
            "╞════════════╪════════╡\n",
            "│ train      │ 0.3965 │\n",
            "├────────────┼────────┤\n",
            "│ vali       │ 0.3962 │\n",
            "├────────────┼────────┤\n",
            "│ test       │ 0.3969 │\n",
            "╘════════════╧════════╛\n",
            "Validation loss on Y improved, model saved\n",
            "\n",
            "\n",
            "Epoch   11\n",
            "Training: 100% 56/56 [02:02<00:00,  2.19s/it]\n",
            "Evaluation train: 100% 1/1 [00:21<00:00, 21.72s/it]\n",
            "Evaluation vali : 100% 1/1 [00:02<00:00,  2.96s/it]\n",
            "Evaluation test : 100% 1/1 [00:06<00:00,  6.37s/it]\n",
            "Took 2m 33.6811s\n",
            "╒═══════╤════════╤════════════╕\n",
            "│ Y     │   loss │   accuracy │\n",
            "╞═══════╪════════╪════════════╡\n",
            "│ train │ 0.3972 │     0.8424 │\n",
            "├───────┼────────┼────────────┤\n",
            "│ vali  │ 0.3975 │     0.8429 │\n",
            "├───────┼────────┼────────────┤\n",
            "│ test  │ 0.3970 │     0.8438 │\n",
            "╘═══════╧════════╧════════════╛\n",
            "╒════════════╤════════╕\n",
            "│ combined   │   loss │\n",
            "╞════════════╪════════╡\n",
            "│ train      │ 0.3972 │\n",
            "├────────────┼────────┤\n",
            "│ vali       │ 0.3975 │\n",
            "├────────────┼────────┤\n",
            "│ test       │ 0.3970 │\n",
            "╘════════════╧════════╛\n",
            "Last improvement of Y validation loss happened 1 epoch ago\n",
            "\n",
            "\n",
            "Epoch   12\n",
            "Training: 100% 56/56 [02:03<00:00,  2.20s/it]\n",
            "Evaluation train: 100% 1/1 [00:21<00:00, 21.78s/it]\n",
            "Evaluation vali : 100% 1/1 [00:03<00:00,  3.33s/it]\n",
            "Evaluation test : 100% 1/1 [00:06<00:00,  6.42s/it]\n",
            "Took 2m 34.9273s\n",
            "╒═══════╤════════╤════════════╕\n",
            "│ Y     │   loss │   accuracy │\n",
            "╞═══════╪════════╪════════════╡\n",
            "│ train │ 0.3994 │     0.8416 │\n",
            "├───────┼────────┼────────────┤\n",
            "│ vali  │ 0.3990 │     0.8414 │\n",
            "├───────┼────────┼────────────┤\n",
            "│ test  │ 0.3990 │     0.8424 │\n",
            "╘═══════╧════════╧════════════╛\n",
            "╒════════════╤════════╕\n",
            "│ combined   │   loss │\n",
            "╞════════════╪════════╡\n",
            "│ train      │ 0.3994 │\n",
            "├────────────┼────────┤\n",
            "│ vali       │ 0.3990 │\n",
            "├────────────┼────────┤\n",
            "│ test       │ 0.3990 │\n",
            "╘════════════╧════════╛\n",
            "Last improvement of Y validation loss happened 2 epochs ago\n",
            "\n",
            "\n",
            "Epoch   13\n",
            "Training:  66% 37/56 [01:24<00:43,  2.27s/it]"
          ],
          "name": "stdout"
        }
      ]
    },
    {
      "cell_type": "code",
      "metadata": {
        "id": "L5GI9_rhzMmR"
      },
      "source": [
        ""
      ],
      "execution_count": null,
      "outputs": []
    }
  ]
}